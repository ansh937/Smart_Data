{
 "cells": [
  {
   "cell_type": "code",
   "execution_count": null,
   "metadata": {},
   "outputs": [
    {
     "name": "stdout",
     "output_type": "stream",
     "text": [
      "1015\n",
      "1050\n",
      "1085\n",
      "1120\n",
      "1155\n",
      "1190\n",
      "1225\n",
      "1260\n",
      "1295\n",
      "1330\n",
      "1365\n",
      "1400\n",
      "1435\n",
      "1470\n",
      "1505\n",
      "1540\n",
      "1575\n",
      "1610\n",
      "1645\n",
      "1680\n",
      "1715\n",
      "1750\n",
      "1785\n",
      "1820\n",
      "1855\n",
      "1890\n",
      "1925\n",
      "1960\n",
      "1995\n"
     ]
    }
   ],
   "source": [
    "#Write a Python program to find those numbers which are divisible by 7 and multiple of 5, between 1000 and 2000 (both included).\n",
    "for i in range(1000,2001):\n",
    "  if i%5==0 and i%7==0:\n",
    "    print(i)\n",
    "\n"
   ]
  },
  {
   "cell_type": "code",
   "execution_count": 8,
   "metadata": {},
   "outputs": [
    {
     "name": "stdout",
     "output_type": "stream",
     "text": [
      "The 40 celcius is 4.444444444444445 in the Fahrenight\n",
      "The 40 Farenight id 104.0 in Celcius\n"
     ]
    }
   ],
   "source": [
    "# Write a Python program to convert temperatures to and from Celsius, Fahrenheit.\n",
    "c=int(input(\"enter the temperature in celcius\"))\n",
    "f=int(input(\"enter the temperature in farenhight\"))\n",
    "\n",
    "def toCelcius():\n",
    "  return (9 * c / 5) + 32\n",
    "\n",
    "def toFarenight():\n",
    "  return (f - 32) * 5 / 9\n",
    "\n",
    "\n",
    "print(f\"The {c} celcius is {toFarenight()} in the Fahrenight\")\n",
    "print(f\"The {f} Farenight id {toCelcius()} in Celcius\")\n"
   ]
  },
  {
   "cell_type": "code",
   "execution_count": 10,
   "metadata": {},
   "outputs": [
    {
     "name": "stdout",
     "output_type": "stream",
     "text": [
      "Try again\n",
      "you have guessed the number\n"
     ]
    }
   ],
   "source": [
    "import random\n",
    "number=random.choice(range(1,10))\n",
    "while True:\n",
    "  guess=int(input(\"Guess the number between 1 to 9\"))\n",
    "  if guess==5:\n",
    "    print(\"you have guessed the number\")\n",
    "    break;\n",
    "  else:\n",
    "    print(\"Try again\")\n",
    "      \n",
    "  "
   ]
  },
  {
   "cell_type": "code",
   "execution_count": 17,
   "metadata": {},
   "outputs": [
    {
     "name": "stdout",
     "output_type": "stream",
     "text": [
      "* \n",
      "* * \n",
      "* * * \n",
      "* * * * \n",
      "* * * * * \n",
      "* * * * \n",
      "* * * \n",
      "* * \n",
      "* \n"
     ]
    }
   ],
   "source": [
    "for i in range(1,6):\n",
    "  for j in range(i):\n",
    "    print(\"*\", end=\" \")\n",
    "  print()\n",
    "  \n",
    "for i in range(4, 0, -1): \n",
    "    for j in range(i):  \n",
    "        print(\"*\", end=\" \")\n",
    "    print()  "
   ]
  },
  {
   "cell_type": "code",
   "execution_count": 16,
   "metadata": {},
   "outputs": [
    {
     "name": "stdout",
     "output_type": "stream",
     "text": [
      "     * \n",
      "    * * \n",
      "   * * * \n",
      "  * * * * \n",
      "   * * * \n",
      "    * * \n",
      "     * \n",
      "      \n"
     ]
    }
   ],
   "source": [
    "def diamond_shape_pyramid(rows):\n",
    "    for i in range(rows):\n",
    "      print(\" \"*(rows-i+1)+\"* \"*(i+1))\n",
    "    for j in range(rows,0,-1):\n",
    "      print(\" \"*(rows-j+3)+\"* \"*(j-1))\n",
    "  \n",
    "diamond_shape_pyramid(4)"
   ]
  },
  {
   "cell_type": "code",
   "execution_count": null,
   "metadata": {},
   "outputs": [
    {
     "name": "stdout",
     "output_type": "stream",
     "text": [
      "hsina\n"
     ]
    }
   ],
   "source": [
    "# Write a Python program that accepts a word from the user and reverse it\n",
    "\n",
    "word=input(\"Enter a word\")\n",
    "reversed_word=word[::-1]#In Python, slicing allows you to extract a portion of a sequence (like a list, tuple, or string) by specifying a start, stop, and step. \n",
    "print(reversed_word)"
   ]
  },
  {
   "cell_type": "code",
   "execution_count": 20,
   "metadata": {},
   "outputs": [
    {
     "name": "stdout",
     "output_type": "stream",
     "text": [
      "The next date is 1015-04-24\n"
     ]
    }
   ],
   "source": [
    "# Write a program to get the next day from a given date.\n",
    "from datetime import date, timedelta\n",
    "\n",
    "year = int(input(\"Input a year: \"))\n",
    "month = int(input(\"Input a month [1-12]: \"))\n",
    "day = int(input(\"Input a day [1-31]: \"))\n",
    "\n",
    "\n",
    "current_date = date(year, month, day)\n",
    "next_day = current_date + timedelta(days=1)#ou can create a timedelta by specifying the difference in days, seconds, microseconds, or even hours, minutes, and weeks.\n",
    "\n",
    "\n",
    "print(\"The next date is\", next_day)"
   ]
  },
  {
   "cell_type": "markdown",
   "metadata": {},
   "source": []
  },
  {
   "cell_type": "code",
   "execution_count": 1,
   "metadata": {},
   "outputs": [
    {
     "name": "stdout",
     "output_type": "stream",
     "text": [
      "You win\n"
     ]
    }
   ],
   "source": [
    "#rock paper scissor game\n",
    "import random\n",
    "options=[\"rock\", \"paper\", \"scissor\"]\n",
    "user_choice=input(\"Enter your choice(Rock/Paper/Scissor)\").lower()\n",
    "computers_choice=random.choice(options)\n",
    "\n",
    "if user_choice==computers_choice:\n",
    "  print(\"Its a Tie\")\n",
    "elif(user_choice==\"rock\" and computers_choice==\"scissor\") or (user_choice==\"scossor\" and computers_choice==\"paper\") or (user_choice==\"paper\" and computers_choice==\"rock\"):\n",
    "  print(\"You win\")\n",
    "else:\n",
    "  print(\"You Lose and computer wins\")\n",
    "\n"
   ]
  },
  {
   "cell_type": "code",
   "execution_count": null,
   "metadata": {},
   "outputs": [],
   "source": []
  }
 ],
 "metadata": {
  "kernelspec": {
   "display_name": "Python 3",
   "language": "python",
   "name": "python3"
  },
  "language_info": {
   "codemirror_mode": {
    "name": "ipython",
    "version": 3
   },
   "file_extension": ".py",
   "mimetype": "text/x-python",
   "name": "python",
   "nbconvert_exporter": "python",
   "pygments_lexer": "ipython3",
   "version": "3.12.2"
  }
 },
 "nbformat": 4,
 "nbformat_minor": 2
}
