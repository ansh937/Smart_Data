{
 "cells": [
  {
   "cell_type": "code",
   "execution_count": 1,
   "metadata": {},
   "outputs": [
    {
     "name": "stdout",
     "output_type": "stream",
     "text": [
      "The sum of odd numbers is 25\n",
      "The sum of even numbers id 20\n"
     ]
    }
   ],
   "source": [
    "\n",
    "#Write a program that finds out the sum of all the odd numbers and the sum\n",
    "# of all the even numbers from a list and prints them out.\n",
    "\n",
    "numbers= [ x for x  in range (1,10)]# list comprehension\n",
    "\n",
    "odd_sum=0\n",
    "even_sum=0\n",
    "\n",
    "for num in numbers:\n",
    "  if num%2==0:\n",
    "    even_sum = even_sum+num\n",
    "  else:\n",
    "    odd_sum += num  \n",
    "    \n",
    "print(f\"The sum of odd numbers is {odd_sum}\")\n",
    "print(f\"The sum of even numbers id {even_sum}\")\n",
    "\n"
   ]
  },
  {
   "cell_type": "code",
   "execution_count": null,
   "metadata": {},
   "outputs": [
    {
     "name": "stdout",
     "output_type": "stream",
     "text": [
      "The maximun number is 97 form the provided list\n",
      "The minimun number is 1 from the provided list\n"
     ]
    }
   ],
   "source": [
    "#Write a program that finds out the maximum and minimum number from a\n",
    "# list and prints them out.\n",
    "\n",
    "numbers = [x for x in range(1,99,3)]\n",
    "\n",
    "# numbers=[]\n",
    "# for x in range(1,99,3):\n",
    "#   numbers.append(x)\n",
    "\n",
    "max_num = numbers[0]\n",
    "min_num = numbers[0]\n",
    "\n",
    "for num in numbers:\n",
    "  if num>max_num:\n",
    "    max_num = num\n",
    "  if num<min_num:\n",
    "    min_num=num\n",
    "    \n",
    "print(f\"The maximun number is {max_num} form the provided list\")\n",
    "print(f\"The minimun number is {min_num} from the provided list\" )\n",
    "      "
   ]
  },
  {
   "cell_type": "code",
   "execution_count": null,
   "metadata": {},
   "outputs": [
    {
     "name": "stdout",
     "output_type": "stream",
     "text": [
      "[1, 1, 2, 3, 5, 8, 13, 21, 34, 55, 89, 144, 233, 377, 610, 987, 1597, 2584, 4181, 6765, 10946, 17711, 28657, 46368, 75025, 121393, 196418, 317811, 514229, 832040, 1346269, 2178309, 3524578, 5702887, 9227465, 14930352, 24157817, 39088169, 63245986, 102334155, 165580141, 267914296, 433494437, 701408733, 1134903170, 1836311903, 2971215073, 4807526976, 7778742049, 12586269025, 20365011074, 32951280099, 53316291173, 86267571272, 139583862445, 225851433717, 365435296162, 591286729879, 956722026041, 1548008755920, 2504730781961, 4052739537881, 6557470319842, 10610209857723, 17167680177565, 27777890035288, 44945570212853, 72723460248141, 117669030460994, 190392490709135, 308061521170129, 498454011879264, 806515533049393, 1304969544928657, 2111485077978050, 3416454622906707, 5527939700884757, 8944394323791464, 14472334024676221, 23416728348467685, 37889062373143906, 61305790721611591, 99194853094755497, 160500643816367088, 259695496911122585, 420196140727489673, 679891637638612258, 1100087778366101931, 1779979416004714189, 2880067194370816120, 4660046610375530309, 7540113804746346429, 12200160415121876738, 19740274219868223167, 31940434634990099905, 51680708854858323072, 83621143489848422977, 135301852344706746049, 218922995834555169026, 354224848179261915075]\n"
     ]
    }
   ],
   "source": [
    "#A Fibonacci sequence is characterized by the fact that every number after\n",
    "# the first two is the sum of the two preceding ones. By definition, the first\n",
    "# two numbers in the Fibonacci sequence are 1 and 1.\n",
    "# 1, 1, 2, 3, 5, 8, 13, 21, 34, 55\n",
    "\n",
    "# Write a program that generates the first N numbers of the Fibonacci\n",
    "# sequence and prints them out. (Use lists)\n",
    "\n",
    "n = int(input(\"Enter the number of Fibonacci numbers: \"))\n",
    "\n",
    "a = 1\n",
    "b = 1\n",
    "fib = [b, a] \n",
    "\n",
    "for i in range(n - 2):\n",
    "    c = b#Stores the current value of b in c (temporary holder).\n",
    "    b = a #Shifts a to b (moves the second-to-last number to the last position).\n",
    "    a = c + b #Computes the next Fibonacci number by adding the old b (now in c) and the old a (now in b).\n",
    "    fib.append(a)\n",
    "\n",
    "fib = fib[:n]\n",
    "print(fib)"
   ]
  },
  {
   "cell_type": "code",
   "execution_count": 7,
   "metadata": {},
   "outputs": [
    {
     "name": "stdout",
     "output_type": "stream",
     "text": [
      "Original list: [1, 1, 2, 3, 3, 4, 4, 5, 6, 5, 6]\n",
      "Unique list: [1, 2, 3, 4, 5, 6]\n"
     ]
    }
   ],
   "source": [
    "# Write a program that creates and prints out a list containing only the\n",
    "# unique elements from an existing list.\n",
    "\n",
    "# [1, 1, 2, 3, 3, 4, 4, 5, 6, 5, 6] -> [1, 2, 3, 4, 5, 6]\n",
    "\n",
    "original_list = [1, 1, 2, 3, 3, 4, 4, 5, 6, 5, 6]\n",
    "unique_list = list(set(original_list))\n",
    "print(\"Original list:\", original_list)\n",
    "print(\"Unique list:\", unique_list)"
   ]
  },
  {
   "cell_type": "code",
   "execution_count": 8,
   "metadata": {},
   "outputs": [
    {
     "name": "stdout",
     "output_type": "stream",
     "text": [
      "the reversed list is [6, 5, 6, 5, 4, 4, 3, 3, 2, 1, 1]\n"
     ]
    }
   ],
   "source": [
    "# 5. Write a program creates and prints a new list with the elements of an\n",
    "# existing list in reverse order.\n",
    "original_list = [1, 1, 2, 3, 3, 4, 4, 5, 6, 5, 6]\n",
    "reversed_list=original_list[::-1]\n",
    "\n",
    "print(f\"the reversed list is {reversed_list}\")\n"
   ]
  },
  {
   "cell_type": "code",
   "execution_count": 9,
   "metadata": {},
   "outputs": [
    {
     "name": "stdout",
     "output_type": "stream",
     "text": [
      "Elements divisible by both 2 and 3: [6, 12, 18, 24]\n"
     ]
    }
   ],
   "source": [
    "#Write a program that prints out all the elements of a list which are divisible\n",
    "# by 2 and 3. Use the following list,\n",
    "\n",
    "# a = [2, 3, 6, 8, 9, 12, 15, 18, 24, 22, 33, 112]\n",
    "\n",
    "a = [2, 3, 6, 8, 9, 12, 15, 18, 24, 22, 33, 112]\n",
    "divisible_by_2_and_3 = []\n",
    "\n",
    "for num in a:\n",
    "    if num % 2 == 0 and num % 3 == 0:  \n",
    "        divisible_by_2_and_3.append(num)\n",
    "        \n",
    "print(\"Elements divisible by both 2 and 3:\", divisible_by_2_and_3)"
   ]
  },
  {
   "cell_type": "code",
   "execution_count": 10,
   "metadata": {},
   "outputs": [
    {
     "name": "stdout",
     "output_type": "stream",
     "text": [
      "Combined list: ['a', 1, 'b', 2, 'c', 3]\n"
     ]
    }
   ],
   "source": [
    "#Write a program that combines two lists of equal length by alternatingly\n",
    "# taking elements, e.g.\n",
    "\n",
    "# [‘a’, ‘b’, ‘c’], [1, 2, 3] -> [‘a’, 1, ‘b’, 2, ‘c’, 3]\n",
    "\n",
    "\n",
    "list1 = ['a', 'b', 'c']\n",
    "list2 = [1, 2, 3]\n",
    "\n",
    "combined = []\n",
    "\n",
    "for i in range(len(list1)):\n",
    "    combined.append(list1[i])  \n",
    "    combined.append(list2[i])\n",
    "\n",
    "print(\"Combined list:\", combined)\n"
   ]
  },
  {
   "cell_type": "code",
   "execution_count": 11,
   "metadata": {},
   "outputs": [
    {
     "name": "stdout",
     "output_type": "stream",
     "text": [
      "Element-wise sums: [2, 4, 6, 8, 10, 12]\n"
     ]
    }
   ],
   "source": [
    "# Write a program that performs element-wise addition on 2 lists of\n",
    "# numbers having equal length and outputs another list containing the sums,\n",
    "# e.g.\n",
    "\n",
    "# [1, 2, 3, 4, 5, 6] + [1, 2, 3, 4, 5, 6] -> [2, 4, 6, 8, 10, 12]\n",
    "\n",
    "list1 = [1, 2, 3, 4, 5, 6]\n",
    "list2 = [1, 2, 3, 4, 5, 6]\n",
    "\n",
    "sums = []\n",
    "\n",
    "for i in range(len(list1)):\n",
    "    sums.append(list1[i] + list2[i])\n",
    "    \n",
    "print(\"Element-wise sums:\", sums)"
   ]
  },
  {
   "cell_type": "code",
   "execution_count": 12,
   "metadata": {},
   "outputs": [
    {
     "name": "stdout",
     "output_type": "stream",
     "text": [
      "Max: 8\n",
      "Min: 1\n",
      "Sum above: 13\n",
      "Sum below: 14\n"
     ]
    }
   ],
   "source": [
    "#9.... Write a program to store the values of the matrix given below in a 2D list.\n",
    "# Then calculate the sum of the diagonal elements, the sum of all elements\n",
    "# above the diagonal and the sum of all the elements below the diagonal. Also\n",
    "# find out the max and min element from the matrix.\n",
    "\n",
    "# a=[2,3,4\n",
    "#    1,5,6\n",
    "#    5,8,5]\n",
    "\n",
    "\n",
    "matrix=[[2,3,4],[1,5,6],[5,8,5]]\n",
    "max=minn=matrix[0][0]\n",
    "sum_above=sum_below=sum_diag=0\n",
    "for row in range(len(matrix)):\n",
    "    for col in range(len(matrix)):\n",
    "        num=matrix[row][col]\n",
    "        if row==col:\n",
    "            sum_diag+=num\n",
    "        if num>max:\n",
    "            max=num\n",
    "        if num<minn:\n",
    "            minn=num\n",
    "        if row>col:\n",
    "            sum_below+=num\n",
    "        if row<col:\n",
    "            sum_above+=num\n",
    "print(\"Max:\",max)\n",
    "print(\"Min:\",minn)\n",
    "print(\"Sum above:\",sum_above)\n",
    "print(\"Sum below:\",sum_below)\n",
    "\n",
    "\n",
    "\n",
    "\n",
    "\n",
    "\n"
   ]
  },
  {
   "cell_type": "code",
   "execution_count": null,
   "metadata": {},
   "outputs": [],
   "source": []
  }
 ],
 "metadata": {
  "kernelspec": {
   "display_name": "Python 3",
   "language": "python",
   "name": "python3"
  },
  "language_info": {
   "codemirror_mode": {
    "name": "ipython",
    "version": 3
   },
   "file_extension": ".py",
   "mimetype": "text/x-python",
   "name": "python",
   "nbconvert_exporter": "python",
   "pygments_lexer": "ipython3",
   "version": "3.12.2"
  }
 },
 "nbformat": 4,
 "nbformat_minor": 2
}
