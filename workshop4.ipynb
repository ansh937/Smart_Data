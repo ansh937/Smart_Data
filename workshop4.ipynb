{
 "cells": [
  {
   "cell_type": "code",
   "execution_count": null,
   "metadata": {},
   "outputs": [
    {
     "name": "stdout",
     "output_type": "stream",
     "text": [
      "[5 7 9]\n"
     ]
    }
   ],
   "source": [
    "import numpy as np\n",
    "#with 2by3 and 1by2 matrix can be added because of broadcasting \n",
    "array1=np.array([1,2,3])\n",
    "array2=np.array([4,5,6])\n",
    "addition=array1+array2\n",
    "print(addition)"
   ]
  },
  {
   "cell_type": "code",
   "execution_count": null,
   "metadata": {},
   "outputs": [
    {
     "name": "stdout",
     "output_type": "stream",
     "text": [
      "[[ 4  8]\n",
      " [12 16]]\n"
     ]
    }
   ],
   "source": [
    "#Multiply Matrix by a scalar.\n",
    "#in mtrix multiplication the number of columns in the first matrix must be different from the number of rows in the second matrix.\n",
    "#when rows and column are same matrix multiplication cannot be done and all other can be done \n",
    "scalar_value=4\n",
    "array=np.array([[1,2],\n",
    "                [3,4]])\n",
    "\n",
    "muntiply= scalar_value * array\n",
    "print(muntiply)\n",
    "\n",
    "\n",
    "#0 means column and 1 means row \n",
    "\n",
    "\n",
    "# for vertical stacking column and column should be same and for horizontal stacking rows and rows should be same "
   ]
  },
  {
   "cell_type": "code",
   "execution_count": 4,
   "metadata": {},
   "outputs": [
    {
     "name": "stdout",
     "output_type": "stream",
     "text": [
      "[[1. 0. 0.]\n",
      " [0. 1. 0.]\n",
      " [0. 0. 1.]]\n"
     ]
    }
   ],
   "source": [
    "# An identity matrix is a square matrix (same number of rows and columns) with:\n",
    "\n",
    "# 1s on the main diagonal (from top-left to bottom-right).\n",
    "# 0s everywhere else.\n",
    "\n",
    "# Create an Identity matrix.\n",
    "\n",
    "identity_matrix=np.identity(3)\n",
    "print(identity_matrix)"
   ]
  },
  {
   "cell_type": "code",
   "execution_count": 5,
   "metadata": {},
   "outputs": [
    {
     "name": "stdout",
     "output_type": "stream",
     "text": [
      "[[[1]\n",
      "  [2]\n",
      "  [3]]\n",
      "\n",
      " [[4]\n",
      "  [5]\n",
      "  [6]]]\n"
     ]
    }
   ],
   "source": [
    "# Convert 1D array to 3D array.\n",
    "array_1d=np.array([1, 2, 3, 4, 5, 6])\n",
    "array_3d = array_1d.reshape(2, 3, 1)\n",
    "print(array_3d)\n"
   ]
  },
  {
   "cell_type": "code",
   "execution_count": null,
   "metadata": {},
   "outputs": [
    {
     "name": "stdout",
     "output_type": "stream",
     "text": [
      "[1. 2. 3. 4. 5.]\n",
      "float64\n"
     ]
    }
   ],
   "source": [
    "# Write a python code to convert data type from float to integer.\n",
    "int_array=np.array([1,2,3,4,5])\n",
    "float_array=int_array.astype(float)\n",
    "print(float_array)\n",
    "print(float_array.dtype)"
   ]
  },
  {
   "cell_type": "code",
   "execution_count": 9,
   "metadata": {},
   "outputs": [
    {
     "name": "stdout",
     "output_type": "stream",
     "text": [
      "(array([1, 7]),)\n"
     ]
    }
   ],
   "source": [
    "# Getting the positions (indexes) where elements of 2 numpy arrays match by using numpy\n",
    "array1=np.array([1,2,3,4,5,5,8,9])\n",
    "array2=np.array([0,2,4,6,2,6,5,9])\n",
    "matching_indices=np.where(array1==array2)\n",
    "print(matching_indices)"
   ]
  },
  {
   "cell_type": "code",
   "execution_count": null,
   "metadata": {},
   "outputs": [
    {
     "name": "stdout",
     "output_type": "stream",
     "text": [
      "[ 0 -1  2 -1  4 -1  6 -1  8 -1]\n"
     ]
    }
   ],
   "source": [
    "# Replace all odd numbers in the given array with -1\n",
    "# exercise_1 = np.array([0, 1, 2, 3, 4, 5, 6, 7, 8, 9])\n",
    "# In NumPy, you can use a boolean array (True/False) inside square brackets [] to select elements from the original array.\n",
    "exercise_1 = np.array([0, 1, 2, 3, 4, 5, 6, 7, 8, 9])\n",
    "exercise_1[exercise_1 % 2 != 0] = -1\n",
    "print(exercise_1)\n",
    "\n"
   ]
  },
  {
   "cell_type": "code",
   "execution_count": null,
   "metadata": {},
   "outputs": [
    {
     "name": "stdout",
     "output_type": "stream",
     "text": [
      "Matching values: (array([2, 4, 6]),)\n"
     ]
    }
   ],
   "source": [
    "# Get the positions where elements of a and b match\n",
    "# a = np.array([1,2,3,2,3,4,3,4,5,6])\n",
    "# b = np.array([7,2,10,2,7,4,9,4,9,8])\n",
    "\n",
    "a = np.array([1, 2, 3, 2, 3, 4, 3, 4, 5, 6])\n",
    "b = np.array([7, 2, 10, 2, 7, 4, 9, 4, 9, 8])\n",
    "\n",
    "matching_indices = np.where(a == b)\n",
    "\n",
    "print(\"Matching values:\",matching_indices)\n"
   ]
  },
  {
   "cell_type": "code",
   "execution_count": 13,
   "metadata": {},
   "outputs": [
    {
     "name": "stdout",
     "output_type": "stream",
     "text": [
      "Indices of max values in each column: [2 2 2]\n"
     ]
    }
   ],
   "source": [
    "# To find the indices of the maximum values in each column, use numpy.argmax():\n",
    "matrix = np.array([[1, 5, 3],\n",
    "                   [4, 2, 6],\n",
    "                   [7, 8, 9]])\n",
    "\n",
    "max_indices = np.argmax(matrix, axis=0)\n",
    "print(\"Indices of max values in each column:\", max_indices)\n"
   ]
  },
  {
   "cell_type": "code",
   "execution_count": null,
   "metadata": {},
   "outputs": [],
   "source": [
    "# To find the maximum number from each column in a NumPy matrix (2D array), you can use the numpy.max() function with the appropriate axis parameter.\n",
    "matrix = np.array([[1, 5, 3],\n",
    "                   [4, 2, 6],\n",
    "                   [7, 8, 9]])\n",
    "print(\"Original matrix:\\n\", matrix)\n",
    "\n",
    "# Find maximum in each column\n",
    "max_per_column = np.max(matrix, axis=0)\n",
    "\n",
    "print(\"\\nMaximum value in each column:\", max_per_column)\n",
    "\n"
   ]
  }
 ],
 "metadata": {
  "kernelspec": {
   "display_name": "Python 3",
   "language": "python",
   "name": "python3"
  },
  "language_info": {
   "codemirror_mode": {
    "name": "ipython",
    "version": 3
   },
   "file_extension": ".py",
   "mimetype": "text/x-python",
   "name": "python",
   "nbconvert_exporter": "python",
   "pygments_lexer": "ipython3",
   "version": "3.12.2"
  }
 },
 "nbformat": 4,
 "nbformat_minor": 2
}
