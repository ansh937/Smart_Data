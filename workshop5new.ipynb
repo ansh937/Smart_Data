{
 "cells": [
  {
   "cell_type": "code",
   "execution_count": 1,
   "metadata": {},
   "outputs": [
    {
     "name": "stdout",
     "output_type": "stream",
     "text": [
      "labels: ['apple', 'banana', 'cherry', 'date', 'elderberry']\n",
      "values: [10, 20, 30, 40, 50]\n",
      "arr: [1.1 2.2 3.3 4.4 5.5]\n",
      "info: {'name': 'Anish', 'age': 23, 'city': 'Pokhara', 'is_student': True}\n"
     ]
    }
   ],
   "source": [
    "import numpy as np\n",
    "labels = [\"apple\", \"banana\", \"cherry\", \"date\", \"elderberry\"]\n",
    "values = [10, 20, 30, 40, 50]\n",
    "arr = np.array([1.1, 2.2, 3.3, 4.4, 5.5])\n",
    "info = {\n",
    "    \"name\": \"Anish\",\n",
    "    \"age\": 23,\n",
    "    \"city\": \"Pokhara\",\n",
    "    \"is_student\": True\n",
    "}\n",
    "\n",
    "print(\"labels:\", labels)\n",
    "print(\"values:\", values)\n",
    "print(\"arr:\", arr)\n",
    "print(\"info:\", info)\n"
   ]
  },
  {
   "cell_type": "code",
   "execution_count": 2,
   "metadata": {},
   "outputs": [
    {
     "name": "stdout",
     "output_type": "stream",
     "text": [
      "Biratnagar      200000\n",
      "Kathmandu      1600000\n",
      "Lalitpur        600000\n",
      "Pokhara         500000\n",
      "Narayangarh     350000\n",
      "dtype: int64\n"
     ]
    }
   ],
   "source": [
    "# Create a new python series that stores the population of 5 various cities as data and name of the cities as indexes from data given below. Store it in variable cities_population.\n",
    "# indexes = ['Biratnagar', 'Kathmandu', 'Lalitpur', 'Pokhara', 'Narayangarh']\n",
    "# data = [200000, 1600000, 600000, 500000, 350000]\n",
    "\n",
    "\n",
    "import pandas as pd\n",
    "\n",
    "\n",
    "indexes = ['Biratnagar', 'Kathmandu', 'Lalitpur', 'Pokhara', 'Narayangarh']\n",
    "data = [200000, 1600000, 600000, 500000, 350000]\n",
    "\n",
    "\n",
    "cities_population = pd.Series(data, index=indexes)\n",
    "\n",
    "\n",
    "print(cities_population)\n"
   ]
  },
  {
   "cell_type": "code",
   "execution_count": null,
   "metadata": {},
   "outputs": [
    {
     "name": "stdout",
     "output_type": "stream",
     "text": [
      "\n",
      "Series using data_values_1:\n",
      "0    10\n",
      "1    20\n",
      "2    30\n",
      "3    40\n",
      "4    50\n",
      "dtype: int64\n",
      "Observation: The indexes are automatically assigned as integers (0,1,2,3,4).\n",
      "\n",
      "Series using data_labels_1:\n",
      "0         apple\n",
      "1        banana\n",
      "2        cherry\n",
      "3     pineapple\n",
      "4    elderberry\n",
      "dtype: object\n",
      "Observation: The data type of the Series is 'object' because it contains strings.\n",
      "\n",
      "Series using data_values_1 as values and data_labels_1 as indexes:\n",
      "apple         10\n",
      "banana        20\n",
      "cherry        30\n",
      "pineapple     40\n",
      "elderberry    50\n",
      "dtype: int64\n",
      "Observation: The indexes are now custom labels instead of default integer indexes.\n",
      "\n",
      "Series using series_numpy_array_1:\n",
      "0    1.1\n",
      "1    2.2\n",
      "2    3.3\n",
      "3    4.4\n",
      "4    5.5\n",
      "dtype: float64\n",
      "Observation: The default indexes are integers, and the data type is float.\n",
      "\n",
      "Series using series_numpy_array_1 with data_labels_1 as indexes:\n",
      "apple         1.1\n",
      "banana        2.2\n",
      "cherry        3.3\n",
      "pineapple     4.4\n",
      "elderberry    5.5\n",
      "dtype: float64\n",
      "Observation: The indexes are now the labels from data_labels_1 instead of integers.\n",
      "\n",
      "Series using dictionary dict2:\n",
      "name            Anish\n",
      "age                23\n",
      "city          Pokhara\n",
      "is_student       True\n",
      "dtype: object\n",
      "Observation: The keys of the dictionary become the indexes of the Series.\n"
     ]
    }
   ],
   "source": [
    "# Create different python series for each question below out of the data above as follows:\n",
    "# Using python list data_values_1. What do you observe regarding the indexes?\n",
    "# Using python list data_labels_1. What do you observe regarding the datatype of the series?\n",
    "# Using data_values_1 as data values and data_labels_1 as indexes\n",
    "# Using numpy array series_numpy_array_1.\n",
    "# Using numpy array series_numpy_array_1. Set the indexes to data_labels_1.\n",
    "# Using python dictionary dict2. What do you observe regarding the indexes?\n",
    "\n",
    "import pandas as pd\n",
    "import numpy as np\n",
    "\n",
    "data_values_1 = [10, 20, 30, 40, 50]\n",
    "data_labels_1 = [\"apple\", \"banana\", \"cherry\", \"pineapple\", \"elderberry\"]\n",
    "series_numpy_array_1 = np.array([1.1, 2.2, 3.3, 4.4, 5.5])\n",
    "dict2 = {\"name\": \"Anish\", \"age\": 23, \"city\": \"Pokhara\", \"is_student\": True}\n",
    "\n",
    "series1 = pd.Series(data_values_1)\n",
    "print(\"\\nSeries using data_values_1:\")\n",
    "print(series1)\n",
    "print(\"Observation: The indexes are automatically assigned as integers (0,1,2,3,4).\")\n",
    "\n",
    "# 2. Series using data_labels_1\n",
    "series2 = pd.Series(data_labels_1)\n",
    "print(\"\\nSeries using data_labels_1:\")\n",
    "print(series2)\n",
    "print(\"Observation: The data type of the Series is 'object' because it contains strings.\")\n",
    "\n",
    "# 3. Series using data_values_1 as values and data_labels_1 as indexes\n",
    "series3 = pd.Series(data_values_1, index=data_labels_1)\n",
    "print(\"\\nSeries using data_values_1 as values and data_labels_1 as indexes:\")\n",
    "print(series3)\n",
    "print(\"Observation: The indexes are now custom labels instead of default integer indexes.\")\n",
    "\n",
    "# 4. Series using series_numpy_array_1\n",
    "series4 = pd.Series(series_numpy_array_1)\n",
    "print(\"\\nSeries using series_numpy_array_1:\")\n",
    "print(series4)\n",
    "print(\"Observation: The default indexes are integers, and the data type is float.\")\n",
    "\n",
    "# 5. Series using series_numpy_array_1 with data_labels_1 as indexes\n",
    "series5 = pd.Series(series_numpy_array_1, index=data_labels_1)\n",
    "print(\"\\nSeries using series_numpy_array_1 with data_labels_1 as indexes:\")\n",
    "print(series5)\n",
    "print(\"Observation: The indexes are now the labels from data_labels_1 instead of integers.\")\n",
    "\n",
    "# 6. Series using dictionary dict2\n",
    "series6 = pd.Series(dict2)\n",
    "print(\"\\nSeries using dictionary dict2:\")\n",
    "print(series6)\n",
    "print(\"Observation: The keys of the dictionary become the indexes of the Series.\")\n",
    "\n"
   ]
  },
  {
   "cell_type": "code",
   "execution_count": 48,
   "metadata": {},
   "outputs": [
    {
     "name": "stdout",
     "output_type": "stream",
     "text": [
      "Indexes of the series: Index(['Biratnagar', 'Kathmandu', 'Lalitpur', 'Pokhara', 'Narayangarh'], dtype='object')\n"
     ]
    }
   ],
   "source": [
    "\n",
    "# Fetch the indexes of the series cities_population.\n",
    "import pandas as pd\n",
    "\n",
    "# Given data\n",
    "indexes = ['Biratnagar', 'Kathmandu', 'Lalitpur', 'Pokhara', 'Narayangarh']\n",
    "data = [200000, 1600000, 600000, 500000, 350000]\n",
    "\n",
    "# Creating a Pandas Series\n",
    "cities_population = pd.Series(data, index=indexes)\n",
    "\n",
    "# Fetching the indexes\n",
    "print(\"Indexes of the series:\", cities_population.index)\n"
   ]
  },
  {
   "cell_type": "code",
   "execution_count": 5,
   "metadata": {},
   "outputs": [
    {
     "name": "stdout",
     "output_type": "stream",
     "text": [
      "Bhaktapur     150000\n",
      "Kathmandu    1600000\n",
      "Lalitpur      600000\n",
      "Pokhara       500000\n",
      "Butwal        300000\n",
      "dtype: int64\n"
     ]
    }
   ],
   "source": [
    "\n",
    "# Create a new python series that stores the population of 5 various cities as data and name of the cities as indexes from data given below. Store it in variable cities_population_2.\n",
    "# indexes = ['Bhaktapur', 'Kathmandu', 'Lalitpur', 'Pokhara', 'Butwal']\n",
    "# data = [150000, 1600000, 600000, 500000, 300000]\n",
    "import pandas as pd\n",
    "\n",
    "# Given data\n",
    "city_names = ['Bhaktapur', 'Kathmandu', 'Lalitpur', 'Pokhara', 'Butwal']\n",
    "populations = [150000, 1600000, 600000, 500000, 300000]\n",
    "\n",
    "# Creating the Pandas Series\n",
    "city_population_series = pd.Series(populations, index=city_names)\n",
    "\n",
    "# Print the series\n",
    "print(city_population_series)\n"
   ]
  },
  {
   "cell_type": "code",
   "execution_count": null,
   "metadata": {},
   "outputs": [
    {
     "name": "stdout",
     "output_type": "stream",
     "text": [
      "Bhaktapur            NaN\n",
      "Biratnagar           NaN\n",
      "Butwal               NaN\n",
      "Kathmandu      3200000.0\n",
      "Lalitpur       1200000.0\n",
      "Narayangarh          NaN\n",
      "Pokhara        1000000.0\n",
      "dtype: float64\n"
     ]
    }
   ],
   "source": [
    "# Perform addition on series 'cities_population' and 'cities_population_2'. What do you observe?\n",
    "import pandas as pd\n",
    "\n",
    "\n",
    "cities_population = pd.Series(\n",
    "    [200000, 1600000, 600000, 500000, 350000],\n",
    "    index=['Biratnagar', 'Kathmandu', 'Lalitpur', 'Pokhara', 'Narayangarh']\n",
    ")\n",
    "\n",
    "\n",
    "cities_population_2 = pd.Series(\n",
    "    [150000, 1600000, 600000, 500000, 300000],\n",
    "    index=['Bhaktapur', 'Kathmandu', 'Lalitpur', 'Pokhara', 'Butwal']\n",
    ")\n",
    "\n",
    "\n",
    "result = cities_population + cities_population_2\n",
    "\n",
    "\n",
    "print(result)\n"
   ]
  },
  {
   "cell_type": "code",
   "execution_count": 8,
   "metadata": {},
   "outputs": [
    {
     "name": "stdout",
     "output_type": "stream",
     "text": [
      "    ENG  NEP  MAT  SCI  COM  STUDENT\n",
      "1    57   34   93   84   54      RAM\n",
      "2    48   49   52   89   64    SHYAM\n",
      "3    66   64   75   38   84     GITA\n",
      "4    55   47   90   82   37     HARI\n",
      "5    45   93   70   53   76     SITA\n",
      "6    45   63   33   53   72  SUSHILA\n",
      "7    68   34   42   43   84   RAMESH\n",
      "8    62   69   67   50   94   SUBODH\n",
      "9    59   33   51   68   33     ANIL\n",
      "10   57   91   60   37   44     RUPA\n"
     ]
    }
   ],
   "source": [
    "# Create a pandas DataFrame out of the following data. Store it in the variable df_.\n",
    "# serial_no: [1, 2, 3, 4, 5, 6, 7, 8, 9, 10] #row indexes\n",
    "# subjects : ['ENG', 'NEP', 'MAT', 'SCI', 'COM'] #column headers\n",
    "# students : ['RAM','SHYAM','GITA','HARI','SITA','SUSHILA','RAMESH','SUBODH','ANIL','RUPA']\n",
    "# marks :marks =[[57, 34, 93, 84, 54], [48, 49, 52, 89, 64], [66, 64, 75, 38, 84], [55, 47, 90, 82, 37], [45, 93, 70, 53, 76], [45, 63, 33, 53, 72], [68, 34, 42, 43, 84], [62, 69, 67, 50, 94], [59, 33, 51, 68, 33], [57, 91, 60, 37, 44]]\n",
    "\n",
    "import pandas as pd\n",
    "\n",
    "\n",
    "serial_no = [1, 2, 3, 4, 5, 6, 7, 8, 9, 10]  # Row indexes\n",
    "subjects = ['ENG', 'NEP', 'MAT', 'SCI', 'COM']  # Column headers\n",
    "students = ['RAM', 'SHYAM', 'GITA', 'HARI', 'SITA', 'SUSHILA', 'RAMESH', 'SUBODH', 'ANIL', 'RUPA']\n",
    "marks = [\n",
    "    [57, 34, 93, 84, 54],\n",
    "    [48, 49, 52, 89, 64],\n",
    "    [66, 64, 75, 38, 84],\n",
    "    [55, 47, 90, 82, 37],\n",
    "    [45, 93, 70, 53, 76],\n",
    "    [45, 63, 33, 53, 72],\n",
    "    [68, 34, 42, 43, 84],\n",
    "    [62, 69, 67, 50, 94],\n",
    "    [59, 33, 51, 68, 33],\n",
    "    [57, 91, 60, 37, 44]\n",
    "]\n",
    "\n",
    "\n",
    "df = pd.DataFrame(marks, index=serial_no, columns=subjects)\n",
    "\n",
    "# Adding the student names as a new column\n",
    "df[\"STUDENT\"] = students\n",
    "\n",
    "\n",
    "print(df)\n"
   ]
  },
  {
   "cell_type": "code",
   "execution_count": 9,
   "metadata": {},
   "outputs": [
    {
     "name": "stdout",
     "output_type": "stream",
     "text": [
      "    ENG  NEP  MAT  SCI  COM  STUDENT\n",
      "2    48   49   52   89   64    SHYAM\n",
      "3    66   64   75   38   84     GITA\n",
      "4    55   47   90   82   37     HARI\n",
      "5    45   93   70   53   76     SITA\n",
      "6    45   63   33   53   72  SUSHILA\n",
      "8    62   69   67   50   94   SUBODH\n",
      "10   57   91   60   37   44     RUPA\n"
     ]
    }
   ],
   "source": [
    "# Fetch the records of all the students who have passed in Nepali. \n",
    "# Define passing marks\n",
    "passing_marks = 40\n",
    "\n",
    "# Filter students who passed in Nepali\n",
    "passed_nepali = df[df[\"NEP\"] >= passing_marks]\n",
    "\n",
    "# Print the records of students who passed in Nepali\n",
    "print(passed_nepali)\n",
    "\n"
   ]
  },
  {
   "cell_type": "code",
   "execution_count": 10,
   "metadata": {},
   "outputs": [
    {
     "name": "stdout",
     "output_type": "stream",
     "text": [
      "1      RAM\n",
      "2    SHYAM\n",
      "4     HARI\n",
      "Name: STUDENT, dtype: object\n"
     ]
    }
   ],
   "source": [
    "# Fetch the names of all the students who have scored a first division mark in science.\n",
    "# Note that a score of more than or equaly to 70 is First Division.  \n",
    "# Define first division marks for Science\n",
    "first_division_marks = 70\n",
    "\n",
    "# Filter students who have scored first division marks in Science\n",
    "first_division_science = df[df[\"SCI\"] >= first_division_marks]\n",
    "\n",
    "# Fetch the names of the students who have scored first division marks\n",
    "student_names = first_division_science[\"STUDENT\"]\n",
    "\n",
    "# Print the names of students\n",
    "print(student_names)\n"
   ]
  },
  {
   "cell_type": "code",
   "execution_count": 2,
   "metadata": {},
   "outputs": [
    {
     "data": {
      "text/plain": [
       "d    2\n",
       "b    3\n",
       "a   -2\n",
       "c    1\n",
       "dtype: int64"
      ]
     },
     "execution_count": 2,
     "metadata": {},
     "output_type": "execute_result"
    }
   ],
   "source": [
    "import pandas as pd\n",
    "b = pd.Series([2,3,-2,1],index=[\"d\",\"b\",\"a\",\"c\"]) #specify custom index\n",
    "b\n"
   ]
  },
  {
   "cell_type": "code",
   "execution_count": 3,
   "metadata": {},
   "outputs": [
    {
     "data": {
      "text/plain": [
       "d    2\n",
       "a   -2\n",
       "dtype: int64"
      ]
     },
     "execution_count": 3,
     "metadata": {},
     "output_type": "execute_result"
    }
   ],
   "source": [
    "b[::2]\n"
   ]
  },
  {
   "cell_type": "code",
   "execution_count": 4,
   "metadata": {},
   "outputs": [
    {
     "data": {
      "text/plain": [
       "d    2\n",
       "b    3\n",
       "c    1\n",
       "dtype: int64"
      ]
     },
     "execution_count": 4,
     "metadata": {},
     "output_type": "execute_result"
    }
   ],
   "source": [
    "b[b>0] #filtering with a boolean array"
   ]
  },
  {
   "cell_type": "code",
   "execution_count": 5,
   "metadata": {},
   "outputs": [
    {
     "data": {
      "text/plain": [
       "d    4\n",
       "b    6\n",
       "a   -4\n",
       "c    2\n",
       "dtype: int64"
      ]
     },
     "execution_count": 5,
     "metadata": {},
     "output_type": "execute_result"
    }
   ],
   "source": [
    "b*2"
   ]
  },
  {
   "cell_type": "code",
   "execution_count": 6,
   "metadata": {},
   "outputs": [
    {
     "data": {
      "text/plain": [
       "d    2\n",
       "b    3\n",
       "a   -2\n",
       "c    1\n",
       "dtype: int64"
      ]
     },
     "execution_count": 6,
     "metadata": {},
     "output_type": "execute_result"
    }
   ],
   "source": [
    "b"
   ]
  },
  {
   "cell_type": "code",
   "execution_count": null,
   "metadata": {},
   "outputs": [
    {
     "data": {
      "text/plain": [
       "d    4\n",
       "b    9\n",
       "a    4\n",
       "c    1\n",
       "dtype: int64"
      ]
     },
     "execution_count": 7,
     "metadata": {},
     "output_type": "execute_result"
    }
   ],
   "source": [
    "import numpy as np # type: ignore\n",
    "np.power(b,2) #applying math functions"
   ]
  },
  {
   "cell_type": "code",
   "execution_count": 8,
   "metadata": {},
   "outputs": [
    {
     "data": {
      "text/plain": [
       "KTM    29\n",
       "PKR    24\n",
       "BRJ    33\n",
       "dtype: int64"
      ]
     },
     "execution_count": 8,
     "metadata": {},
     "output_type": "execute_result"
    }
   ],
   "source": [
    "data = {\"KTM\":29,\"PKR\":24,\"BRJ\":33}\n",
    "c = pd.Series(data)\n",
    "c"
   ]
  },
  {
   "cell_type": "code",
   "execution_count": 9,
   "metadata": {},
   "outputs": [
    {
     "data": {
      "text/plain": [
       "BRJ    33.0\n",
       "KTM    29.0\n",
       "PKR    24.0\n",
       "ITA     NaN\n",
       "dtype: float64"
      ]
     },
     "execution_count": 9,
     "metadata": {},
     "output_type": "execute_result"
    }
   ],
   "source": [
    "cities = [\"BRJ\",\"KTM\",\"PKR\",\"ITA\"]\n",
    "d = pd.Series(data,index=cities)\n",
    "d"
   ]
  },
  {
   "cell_type": "code",
   "execution_count": 10,
   "metadata": {},
   "outputs": [
    {
     "data": {
      "text/plain": [
       "BRJ    False\n",
       "KTM    False\n",
       "PKR    False\n",
       "ITA     True\n",
       "dtype: bool"
      ]
     },
     "execution_count": 10,
     "metadata": {},
     "output_type": "execute_result"
    }
   ],
   "source": [
    "pd.isnull(d)"
   ]
  },
  {
   "cell_type": "code",
   "execution_count": 11,
   "metadata": {},
   "outputs": [
    {
     "data": {
      "text/plain": [
       "BRJ     True\n",
       "KTM     True\n",
       "PKR     True\n",
       "ITA    False\n",
       "dtype: bool"
      ]
     },
     "execution_count": 11,
     "metadata": {},
     "output_type": "execute_result"
    }
   ],
   "source": [
    "pd.notnull(d)"
   ]
  },
  {
   "cell_type": "code",
   "execution_count": 12,
   "metadata": {},
   "outputs": [
    {
     "data": {
      "text/plain": [
       "BRJ    False\n",
       "KTM    False\n",
       "PKR    False\n",
       "ITA     True\n",
       "dtype: bool"
      ]
     },
     "execution_count": 12,
     "metadata": {},
     "output_type": "execute_result"
    }
   ],
   "source": [
    "d.isnull()"
   ]
  },
  {
   "cell_type": "code",
   "execution_count": 13,
   "metadata": {},
   "outputs": [
    {
     "data": {
      "text/plain": [
       "KTM    29\n",
       "PKR    24\n",
       "BRJ    33\n",
       "dtype: int64"
      ]
     },
     "execution_count": 13,
     "metadata": {},
     "output_type": "execute_result"
    }
   ],
   "source": [
    "c"
   ]
  },
  {
   "cell_type": "code",
   "execution_count": 14,
   "metadata": {},
   "outputs": [
    {
     "data": {
      "text/plain": [
       "BRJ    33.0\n",
       "KTM    29.0\n",
       "PKR    24.0\n",
       "ITA     NaN\n",
       "dtype: float64"
      ]
     },
     "execution_count": 14,
     "metadata": {},
     "output_type": "execute_result"
    }
   ],
   "source": [
    "d"
   ]
  },
  {
   "cell_type": "code",
   "execution_count": 15,
   "metadata": {},
   "outputs": [
    {
     "data": {
      "text/plain": [
       "BRJ    66.0\n",
       "ITA     NaN\n",
       "KTM    58.0\n",
       "PKR    48.0\n",
       "dtype: float64"
      ]
     },
     "execution_count": 15,
     "metadata": {},
     "output_type": "execute_result"
    }
   ],
   "source": [
    "c+d"
   ]
  },
  {
   "cell_type": "code",
   "execution_count": 16,
   "metadata": {},
   "outputs": [
    {
     "data": {
      "text/plain": [
       "KTM    29\n",
       "PKR    24\n",
       "BRJ    33\n",
       "Name: temperature, dtype: int64"
      ]
     },
     "execution_count": 16,
     "metadata": {},
     "output_type": "execute_result"
    }
   ],
   "source": [
    "c.name=\"temperature\"\n",
    "c"
   ]
  },
  {
   "cell_type": "code",
   "execution_count": null,
   "metadata": {},
   "outputs": [
    {
     "ename": "AttributeError",
     "evalue": "'Series' object has no attribute 'value'",
     "output_type": "error",
     "traceback": [
      "\u001b[31m---------------------------------------------------------------------------\u001b[39m",
      "\u001b[31mAttributeError\u001b[39m                            Traceback (most recent call last)",
      "\u001b[32m/var/folders/b4/kpsd1f0x157c88z63r5368280000gn/T/ipykernel_79774/567231083.py\u001b[39m in \u001b[36m?\u001b[39m\u001b[34m()\u001b[39m\n\u001b[32m      1\u001b[39m c.index.name =\u001b[33m\"city\"\u001b[39m\n\u001b[32m----> \u001b[39m\u001b[32m2\u001b[39m d.value.name=\u001b[33m\"temperature\"\u001b[39m\n\u001b[32m      3\u001b[39m d\n",
      "\u001b[32m/Library/Frameworks/Python.framework/Versions/3.12/lib/python3.12/site-packages/pandas/core/generic.py\u001b[39m in \u001b[36m?\u001b[39m\u001b[34m(self, name)\u001b[39m\n\u001b[32m   6292\u001b[39m             \u001b[38;5;28;01mand\u001b[39;00m name \u001b[38;5;28;01mnot\u001b[39;00m \u001b[38;5;28;01min\u001b[39;00m self._accessors\n\u001b[32m   6293\u001b[39m             \u001b[38;5;28;01mand\u001b[39;00m self._info_axis._can_hold_identifiers_and_holds_name(name)\n\u001b[32m   6294\u001b[39m         ):\n\u001b[32m   6295\u001b[39m             \u001b[38;5;28;01mreturn\u001b[39;00m self[name]\n\u001b[32m-> \u001b[39m\u001b[32m6296\u001b[39m         \u001b[38;5;28;01mreturn\u001b[39;00m object.__getattribute__(self, name)\n",
      "\u001b[31mAttributeError\u001b[39m: 'Series' object has no attribute 'value'"
     ]
    }
   ],
   "source": [
    "c.index.name =\"city\"\n",
    "d.index.name=\"temperature\"\n",
    "d\n"
   ]
  },
  {
   "cell_type": "code",
   "execution_count": 21,
   "metadata": {},
   "outputs": [
    {
     "data": {
      "text/plain": [
       "temperature\n",
       "BRJ    33.0\n",
       "KTM    29.0\n",
       "PKR    24.0\n",
       "ITA     NaN\n",
       "dtype: float64"
      ]
     },
     "execution_count": 21,
     "metadata": {},
     "output_type": "execute_result"
    }
   ],
   "source": [
    "d"
   ]
  },
  {
   "cell_type": "code",
   "execution_count": 23,
   "metadata": {},
   "outputs": [
    {
     "data": {
      "text/html": [
       "<div>\n",
       "<style scoped>\n",
       "    .dataframe tbody tr th:only-of-type {\n",
       "        vertical-align: middle;\n",
       "    }\n",
       "\n",
       "    .dataframe tbody tr th {\n",
       "        vertical-align: top;\n",
       "    }\n",
       "\n",
       "    .dataframe thead th {\n",
       "        text-align: right;\n",
       "    }\n",
       "</style>\n",
       "<table border=\"1\" class=\"dataframe\">\n",
       "  <thead>\n",
       "    <tr style=\"text-align: right;\">\n",
       "      <th></th>\n",
       "      <th>city</th>\n",
       "      <th>day</th>\n",
       "      <th>temp</th>\n",
       "    </tr>\n",
       "  </thead>\n",
       "  <tbody>\n",
       "    <tr>\n",
       "      <th>0</th>\n",
       "      <td>KTM</td>\n",
       "      <td>SUN</td>\n",
       "      <td>23</td>\n",
       "    </tr>\n",
       "    <tr>\n",
       "      <th>1</th>\n",
       "      <td>KTM</td>\n",
       "      <td>MON</td>\n",
       "      <td>22</td>\n",
       "    </tr>\n",
       "    <tr>\n",
       "      <th>2</th>\n",
       "      <td>PKR</td>\n",
       "      <td>SUN</td>\n",
       "      <td>25</td>\n",
       "    </tr>\n",
       "    <tr>\n",
       "      <th>3</th>\n",
       "      <td>PKR</td>\n",
       "      <td>MON</td>\n",
       "      <td>26</td>\n",
       "    </tr>\n",
       "    <tr>\n",
       "      <th>4</th>\n",
       "      <td>BRJ</td>\n",
       "      <td>SUN</td>\n",
       "      <td>30</td>\n",
       "    </tr>\n",
       "    <tr>\n",
       "      <th>5</th>\n",
       "      <td>BRJ</td>\n",
       "      <td>MON</td>\n",
       "      <td>31</td>\n",
       "    </tr>\n",
       "  </tbody>\n",
       "</table>\n",
       "</div>"
      ],
      "text/plain": [
       "  city  day  temp\n",
       "0  KTM  SUN    23\n",
       "1  KTM  MON    22\n",
       "2  PKR  SUN    25\n",
       "3  PKR  MON    26\n",
       "4  BRJ  SUN    30\n",
       "5  BRJ  MON    31"
      ]
     },
     "execution_count": 23,
     "metadata": {},
     "output_type": "execute_result"
    }
   ],
   "source": [
    "import pandas as pd\n",
    "data = {'city':['KTM','KTM','PKR','PKR','BRJ','BRJ'],\n",
    "       'day':['SUN','MON','SUN','MON','SUN','MON'],\n",
    "       'temp':[23,22,25,26,30,31]}\n",
    "df = pd.DataFrame(data)\n",
    "df"
   ]
  },
  {
   "cell_type": "code",
   "execution_count": 26,
   "metadata": {},
   "outputs": [
    {
     "data": {
      "text/html": [
       "<div>\n",
       "<style scoped>\n",
       "    .dataframe tbody tr th:only-of-type {\n",
       "        vertical-align: middle;\n",
       "    }\n",
       "\n",
       "    .dataframe tbody tr th {\n",
       "        vertical-align: top;\n",
       "    }\n",
       "\n",
       "    .dataframe thead th {\n",
       "        text-align: right;\n",
       "    }\n",
       "</style>\n",
       "<table border=\"1\" class=\"dataframe\">\n",
       "  <thead>\n",
       "    <tr style=\"text-align: right;\">\n",
       "      <th></th>\n",
       "      <th>day</th>\n",
       "      <th>city</th>\n",
       "      <th>temp</th>\n",
       "    </tr>\n",
       "  </thead>\n",
       "  <tbody>\n",
       "    <tr>\n",
       "      <th>0</th>\n",
       "      <td>SUN</td>\n",
       "      <td>KTM</td>\n",
       "      <td>23</td>\n",
       "    </tr>\n",
       "    <tr>\n",
       "      <th>1</th>\n",
       "      <td>MON</td>\n",
       "      <td>KTM</td>\n",
       "      <td>22</td>\n",
       "    </tr>\n",
       "    <tr>\n",
       "      <th>2</th>\n",
       "      <td>SUN</td>\n",
       "      <td>PKR</td>\n",
       "      <td>25</td>\n",
       "    </tr>\n",
       "    <tr>\n",
       "      <th>3</th>\n",
       "      <td>MON</td>\n",
       "      <td>PKR</td>\n",
       "      <td>26</td>\n",
       "    </tr>\n",
       "    <tr>\n",
       "      <th>4</th>\n",
       "      <td>SUN</td>\n",
       "      <td>BRJ</td>\n",
       "      <td>30</td>\n",
       "    </tr>\n",
       "    <tr>\n",
       "      <th>5</th>\n",
       "      <td>MON</td>\n",
       "      <td>BRJ</td>\n",
       "      <td>31</td>\n",
       "    </tr>\n",
       "  </tbody>\n",
       "</table>\n",
       "</div>"
      ],
      "text/plain": [
       "   day city  temp\n",
       "0  SUN  KTM    23\n",
       "1  MON  KTM    22\n",
       "2  SUN  PKR    25\n",
       "3  MON  PKR    26\n",
       "4  SUN  BRJ    30\n",
       "5  MON  BRJ    31"
      ]
     },
     "execution_count": 26,
     "metadata": {},
     "output_type": "execute_result"
    }
   ],
   "source": [
    "pd.DataFrame(data,columns=[\"day\",\"city\",\"temp\"])"
   ]
  },
  {
   "cell_type": "code",
   "execution_count": 27,
   "metadata": {},
   "outputs": [
    {
     "data": {
      "text/html": [
       "<div>\n",
       "<style scoped>\n",
       "    .dataframe tbody tr th:only-of-type {\n",
       "        vertical-align: middle;\n",
       "    }\n",
       "\n",
       "    .dataframe tbody tr th {\n",
       "        vertical-align: top;\n",
       "    }\n",
       "\n",
       "    .dataframe thead th {\n",
       "        text-align: right;\n",
       "    }\n",
       "</style>\n",
       "<table border=\"1\" class=\"dataframe\">\n",
       "  <thead>\n",
       "    <tr style=\"text-align: right;\">\n",
       "      <th></th>\n",
       "      <th>city</th>\n",
       "      <th>day</th>\n",
       "      <th>temp</th>\n",
       "    </tr>\n",
       "  </thead>\n",
       "  <tbody>\n",
       "    <tr>\n",
       "      <th>0</th>\n",
       "      <td>KTM</td>\n",
       "      <td>SUN</td>\n",
       "      <td>23</td>\n",
       "    </tr>\n",
       "    <tr>\n",
       "      <th>1</th>\n",
       "      <td>KTM</td>\n",
       "      <td>MON</td>\n",
       "      <td>22</td>\n",
       "    </tr>\n",
       "    <tr>\n",
       "      <th>2</th>\n",
       "      <td>PKR</td>\n",
       "      <td>SUN</td>\n",
       "      <td>25</td>\n",
       "    </tr>\n",
       "    <tr>\n",
       "      <th>3</th>\n",
       "      <td>PKR</td>\n",
       "      <td>MON</td>\n",
       "      <td>26</td>\n",
       "    </tr>\n",
       "    <tr>\n",
       "      <th>4</th>\n",
       "      <td>BRJ</td>\n",
       "      <td>SUN</td>\n",
       "      <td>30</td>\n",
       "    </tr>\n",
       "    <tr>\n",
       "      <th>5</th>\n",
       "      <td>BRJ</td>\n",
       "      <td>MON</td>\n",
       "      <td>31</td>\n",
       "    </tr>\n",
       "  </tbody>\n",
       "</table>\n",
       "</div>"
      ],
      "text/plain": [
       "  city  day  temp\n",
       "0  KTM  SUN    23\n",
       "1  KTM  MON    22\n",
       "2  PKR  SUN    25\n",
       "3  PKR  MON    26\n",
       "4  BRJ  SUN    30\n",
       "5  BRJ  MON    31"
      ]
     },
     "execution_count": 27,
     "metadata": {},
     "output_type": "execute_result"
    }
   ],
   "source": [
    "df\n"
   ]
  },
  {
   "cell_type": "code",
   "execution_count": 29,
   "metadata": {},
   "outputs": [
    {
     "data": {
      "text/plain": [
       "Index(['city', 'day', 'temp'], dtype='object')"
      ]
     },
     "execution_count": 29,
     "metadata": {},
     "output_type": "execute_result"
    }
   ],
   "source": [
    "df.columns"
   ]
  },
  {
   "cell_type": "code",
   "execution_count": 30,
   "metadata": {},
   "outputs": [
    {
     "data": {
      "text/plain": [
       "0    KTM\n",
       "1    KTM\n",
       "2    PKR\n",
       "3    PKR\n",
       "4    BRJ\n",
       "5    BRJ\n",
       "Name: city, dtype: object"
      ]
     },
     "execution_count": 30,
     "metadata": {},
     "output_type": "execute_result"
    }
   ],
   "source": [
    "df[\"city\"]"
   ]
  },
  {
   "cell_type": "code",
   "execution_count": 32,
   "metadata": {},
   "outputs": [
    {
     "data": {
      "text/html": [
       "<div>\n",
       "<style scoped>\n",
       "    .dataframe tbody tr th:only-of-type {\n",
       "        vertical-align: middle;\n",
       "    }\n",
       "\n",
       "    .dataframe tbody tr th {\n",
       "        vertical-align: top;\n",
       "    }\n",
       "\n",
       "    .dataframe thead th {\n",
       "        text-align: right;\n",
       "    }\n",
       "</style>\n",
       "<table border=\"1\" class=\"dataframe\">\n",
       "  <thead>\n",
       "    <tr style=\"text-align: right;\">\n",
       "      <th></th>\n",
       "      <th>day</th>\n",
       "      <th>city</th>\n",
       "      <th>temp</th>\n",
       "      <th>humidity</th>\n",
       "    </tr>\n",
       "  </thead>\n",
       "  <tbody>\n",
       "    <tr>\n",
       "      <th>one</th>\n",
       "      <td>SUN</td>\n",
       "      <td>KTM</td>\n",
       "      <td>23</td>\n",
       "      <td>NaN</td>\n",
       "    </tr>\n",
       "    <tr>\n",
       "      <th>two</th>\n",
       "      <td>MON</td>\n",
       "      <td>KTM</td>\n",
       "      <td>22</td>\n",
       "      <td>NaN</td>\n",
       "    </tr>\n",
       "    <tr>\n",
       "      <th>three</th>\n",
       "      <td>SUN</td>\n",
       "      <td>PKR</td>\n",
       "      <td>25</td>\n",
       "      <td>NaN</td>\n",
       "    </tr>\n",
       "    <tr>\n",
       "      <th>four</th>\n",
       "      <td>MON</td>\n",
       "      <td>PKR</td>\n",
       "      <td>26</td>\n",
       "      <td>NaN</td>\n",
       "    </tr>\n",
       "    <tr>\n",
       "      <th>five</th>\n",
       "      <td>SUN</td>\n",
       "      <td>BRJ</td>\n",
       "      <td>30</td>\n",
       "      <td>NaN</td>\n",
       "    </tr>\n",
       "    <tr>\n",
       "      <th>six</th>\n",
       "      <td>MON</td>\n",
       "      <td>BRJ</td>\n",
       "      <td>31</td>\n",
       "      <td>NaN</td>\n",
       "    </tr>\n",
       "  </tbody>\n",
       "</table>\n",
       "</div>"
      ],
      "text/plain": [
       "       day city  temp humidity\n",
       "one    SUN  KTM    23      NaN\n",
       "two    MON  KTM    22      NaN\n",
       "three  SUN  PKR    25      NaN\n",
       "four   MON  PKR    26      NaN\n",
       "five   SUN  BRJ    30      NaN\n",
       "six    MON  BRJ    31      NaN"
      ]
     },
     "execution_count": 32,
     "metadata": {},
     "output_type": "execute_result"
    }
   ],
   "source": [
    "df2 = pd.DataFrame(data,columns=['day','city','temp','humidity'],\n",
    "            index=['one','two','three','four','five','six'])\n",
    "df2"
   ]
  },
  {
   "cell_type": "code",
   "execution_count": 33,
   "metadata": {},
   "outputs": [
    {
     "data": {
      "text/plain": [
       "day         SUN\n",
       "city        PKR\n",
       "temp         25\n",
       "humidity    NaN\n",
       "Name: three, dtype: object"
      ]
     },
     "execution_count": 33,
     "metadata": {},
     "output_type": "execute_result"
    }
   ],
   "source": [
    "df2.loc['three'] #label based indexing"
   ]
  },
  {
   "cell_type": "code",
   "execution_count": 34,
   "metadata": {},
   "outputs": [
    {
     "data": {
      "text/plain": [
       "day         SUN\n",
       "city        KTM\n",
       "temp         23\n",
       "humidity    NaN\n",
       "Name: one, dtype: object"
      ]
     },
     "execution_count": 34,
     "metadata": {},
     "output_type": "execute_result"
    }
   ],
   "source": [
    "df2.iloc[0] #position based indexing"
   ]
  },
  {
   "cell_type": "code",
   "execution_count": null,
   "metadata": {},
   "outputs": [
    {
     "data": {
      "text/html": [
       "<div>\n",
       "<style scoped>\n",
       "    .dataframe tbody tr th:only-of-type {\n",
       "        vertical-align: middle;\n",
       "    }\n",
       "\n",
       "    .dataframe tbody tr th {\n",
       "        vertical-align: top;\n",
       "    }\n",
       "\n",
       "    .dataframe thead th {\n",
       "        text-align: right;\n",
       "    }\n",
       "</style>\n",
       "<table border=\"1\" class=\"dataframe\">\n",
       "  <thead>\n",
       "    <tr style=\"text-align: right;\">\n",
       "      <th></th>\n",
       "      <th>day</th>\n",
       "      <th>city</th>\n",
       "      <th>temp</th>\n",
       "      <th>humidity</th>\n",
       "    </tr>\n",
       "  </thead>\n",
       "  <tbody>\n",
       "    <tr>\n",
       "      <th>one</th>\n",
       "      <td>SUN</td>\n",
       "      <td>KTM</td>\n",
       "      <td>23</td>\n",
       "      <td>3</td>\n",
       "    </tr>\n",
       "    <tr>\n",
       "      <th>two</th>\n",
       "      <td>MON</td>\n",
       "      <td>KTM</td>\n",
       "      <td>22</td>\n",
       "      <td>9</td>\n",
       "    </tr>\n",
       "    <tr>\n",
       "      <th>three</th>\n",
       "      <td>SUN</td>\n",
       "      <td>PKR</td>\n",
       "      <td>25</td>\n",
       "      <td>8</td>\n",
       "    </tr>\n",
       "    <tr>\n",
       "      <th>four</th>\n",
       "      <td>MON</td>\n",
       "      <td>PKR</td>\n",
       "      <td>26</td>\n",
       "      <td>3</td>\n",
       "    </tr>\n",
       "    <tr>\n",
       "      <th>five</th>\n",
       "      <td>SUN</td>\n",
       "      <td>BRJ</td>\n",
       "      <td>30</td>\n",
       "      <td>9</td>\n",
       "    </tr>\n",
       "    <tr>\n",
       "      <th>six</th>\n",
       "      <td>MON</td>\n",
       "      <td>BRJ</td>\n",
       "      <td>31</td>\n",
       "      <td>9</td>\n",
       "    </tr>\n",
       "  </tbody>\n",
       "</table>\n",
       "</div>"
      ],
      "text/plain": [
       "       day city  temp  humidity\n",
       "one    SUN  KTM    23         3\n",
       "two    MON  KTM    22         9\n",
       "three  SUN  PKR    25         8\n",
       "four   MON  PKR    26         3\n",
       "five   SUN  BRJ    30         9\n",
       "six    MON  BRJ    31         9"
      ]
     },
     "execution_count": 36,
     "metadata": {},
     "output_type": "execute_result"
    }
   ],
   "source": [
    "\n",
    "df2[\"humidity\"]=np.random.randint(2,10,6)\n",
    "df2"
   ]
  },
  {
   "cell_type": "code",
   "execution_count": 37,
   "metadata": {},
   "outputs": [
    {
     "data": {
      "text/html": [
       "<div>\n",
       "<style scoped>\n",
       "    .dataframe tbody tr th:only-of-type {\n",
       "        vertical-align: middle;\n",
       "    }\n",
       "\n",
       "    .dataframe tbody tr th {\n",
       "        vertical-align: top;\n",
       "    }\n",
       "\n",
       "    .dataframe thead th {\n",
       "        text-align: right;\n",
       "    }\n",
       "</style>\n",
       "<table border=\"1\" class=\"dataframe\">\n",
       "  <thead>\n",
       "    <tr style=\"text-align: right;\">\n",
       "      <th></th>\n",
       "      <th>day</th>\n",
       "      <th>city</th>\n",
       "      <th>temp</th>\n",
       "      <th>humidity</th>\n",
       "      <th>capital</th>\n",
       "    </tr>\n",
       "  </thead>\n",
       "  <tbody>\n",
       "    <tr>\n",
       "      <th>one</th>\n",
       "      <td>SUN</td>\n",
       "      <td>KTM</td>\n",
       "      <td>23</td>\n",
       "      <td>3</td>\n",
       "      <td>True</td>\n",
       "    </tr>\n",
       "    <tr>\n",
       "      <th>two</th>\n",
       "      <td>MON</td>\n",
       "      <td>KTM</td>\n",
       "      <td>22</td>\n",
       "      <td>9</td>\n",
       "      <td>True</td>\n",
       "    </tr>\n",
       "    <tr>\n",
       "      <th>three</th>\n",
       "      <td>SUN</td>\n",
       "      <td>PKR</td>\n",
       "      <td>25</td>\n",
       "      <td>8</td>\n",
       "      <td>False</td>\n",
       "    </tr>\n",
       "    <tr>\n",
       "      <th>four</th>\n",
       "      <td>MON</td>\n",
       "      <td>PKR</td>\n",
       "      <td>26</td>\n",
       "      <td>3</td>\n",
       "      <td>False</td>\n",
       "    </tr>\n",
       "    <tr>\n",
       "      <th>five</th>\n",
       "      <td>SUN</td>\n",
       "      <td>BRJ</td>\n",
       "      <td>30</td>\n",
       "      <td>9</td>\n",
       "      <td>False</td>\n",
       "    </tr>\n",
       "    <tr>\n",
       "      <th>six</th>\n",
       "      <td>MON</td>\n",
       "      <td>BRJ</td>\n",
       "      <td>31</td>\n",
       "      <td>9</td>\n",
       "      <td>False</td>\n",
       "    </tr>\n",
       "  </tbody>\n",
       "</table>\n",
       "</div>"
      ],
      "text/plain": [
       "       day city  temp  humidity  capital\n",
       "one    SUN  KTM    23         3     True\n",
       "two    MON  KTM    22         9     True\n",
       "three  SUN  PKR    25         8    False\n",
       "four   MON  PKR    26         3    False\n",
       "five   SUN  BRJ    30         9    False\n",
       "six    MON  BRJ    31         9    False"
      ]
     },
     "execution_count": 37,
     "metadata": {},
     "output_type": "execute_result"
    }
   ],
   "source": [
    "df2['capital'] = df2['city'] == 'KTM' #assigning a column that doesn't exist will create a new column\n",
    "df2"
   ]
  },
  {
   "cell_type": "code",
   "execution_count": 38,
   "metadata": {},
   "outputs": [
    {
     "data": {
      "text/plain": [
       "Index(['day', 'city', 'temp', 'humidity'], dtype='object')"
      ]
     },
     "execution_count": 38,
     "metadata": {},
     "output_type": "execute_result"
    }
   ],
   "source": [
    "del df2['capital'] #deleting a column, this will change the dataframe \n",
    "df2.columns"
   ]
  },
  {
   "cell_type": "code",
   "execution_count": 39,
   "metadata": {},
   "outputs": [
    {
     "data": {
      "text/html": [
       "<div>\n",
       "<style scoped>\n",
       "    .dataframe tbody tr th:only-of-type {\n",
       "        vertical-align: middle;\n",
       "    }\n",
       "\n",
       "    .dataframe tbody tr th {\n",
       "        vertical-align: top;\n",
       "    }\n",
       "\n",
       "    .dataframe thead th {\n",
       "        text-align: right;\n",
       "    }\n",
       "</style>\n",
       "<table border=\"1\" class=\"dataframe\">\n",
       "  <thead>\n",
       "    <tr style=\"text-align: right;\">\n",
       "      <th></th>\n",
       "      <th>day</th>\n",
       "      <th>city</th>\n",
       "      <th>temp</th>\n",
       "      <th>humidity</th>\n",
       "    </tr>\n",
       "  </thead>\n",
       "  <tbody>\n",
       "    <tr>\n",
       "      <th>two</th>\n",
       "      <td>MON</td>\n",
       "      <td>KTM</td>\n",
       "      <td>22</td>\n",
       "      <td>9</td>\n",
       "    </tr>\n",
       "    <tr>\n",
       "      <th>three</th>\n",
       "      <td>SUN</td>\n",
       "      <td>PKR</td>\n",
       "      <td>25</td>\n",
       "      <td>8</td>\n",
       "    </tr>\n",
       "    <tr>\n",
       "      <th>four</th>\n",
       "      <td>MON</td>\n",
       "      <td>PKR</td>\n",
       "      <td>26</td>\n",
       "      <td>3</td>\n",
       "    </tr>\n",
       "    <tr>\n",
       "      <th>five</th>\n",
       "      <td>SUN</td>\n",
       "      <td>BRJ</td>\n",
       "      <td>30</td>\n",
       "      <td>9</td>\n",
       "    </tr>\n",
       "    <tr>\n",
       "      <th>six</th>\n",
       "      <td>MON</td>\n",
       "      <td>BRJ</td>\n",
       "      <td>31</td>\n",
       "      <td>9</td>\n",
       "    </tr>\n",
       "  </tbody>\n",
       "</table>\n",
       "</div>"
      ],
      "text/plain": [
       "       day city  temp  humidity\n",
       "two    MON  KTM    22         9\n",
       "three  SUN  PKR    25         8\n",
       "four   MON  PKR    26         3\n",
       "five   SUN  BRJ    30         9\n",
       "six    MON  BRJ    31         9"
      ]
     },
     "execution_count": 39,
     "metadata": {},
     "output_type": "execute_result"
    }
   ],
   "source": [
    "df2.drop(\"one\")"
   ]
  },
  {
   "cell_type": "code",
   "execution_count": 40,
   "metadata": {},
   "outputs": [
    {
     "data": {
      "text/html": [
       "<div>\n",
       "<style scoped>\n",
       "    .dataframe tbody tr th:only-of-type {\n",
       "        vertical-align: middle;\n",
       "    }\n",
       "\n",
       "    .dataframe tbody tr th {\n",
       "        vertical-align: top;\n",
       "    }\n",
       "\n",
       "    .dataframe thead th {\n",
       "        text-align: right;\n",
       "    }\n",
       "</style>\n",
       "<table border=\"1\" class=\"dataframe\">\n",
       "  <thead>\n",
       "    <tr style=\"text-align: right;\">\n",
       "      <th></th>\n",
       "      <th>day</th>\n",
       "      <th>city</th>\n",
       "      <th>temp</th>\n",
       "      <th>humidity</th>\n",
       "    </tr>\n",
       "  </thead>\n",
       "  <tbody>\n",
       "    <tr>\n",
       "      <th>one</th>\n",
       "      <td>SUN</td>\n",
       "      <td>KTM</td>\n",
       "      <td>23</td>\n",
       "      <td>3</td>\n",
       "    </tr>\n",
       "    <tr>\n",
       "      <th>two</th>\n",
       "      <td>MON</td>\n",
       "      <td>KTM</td>\n",
       "      <td>22</td>\n",
       "      <td>9</td>\n",
       "    </tr>\n",
       "    <tr>\n",
       "      <th>three</th>\n",
       "      <td>SUN</td>\n",
       "      <td>PKR</td>\n",
       "      <td>25</td>\n",
       "      <td>8</td>\n",
       "    </tr>\n",
       "    <tr>\n",
       "      <th>four</th>\n",
       "      <td>MON</td>\n",
       "      <td>PKR</td>\n",
       "      <td>26</td>\n",
       "      <td>3</td>\n",
       "    </tr>\n",
       "    <tr>\n",
       "      <th>five</th>\n",
       "      <td>SUN</td>\n",
       "      <td>BRJ</td>\n",
       "      <td>30</td>\n",
       "      <td>9</td>\n",
       "    </tr>\n",
       "    <tr>\n",
       "      <th>six</th>\n",
       "      <td>MON</td>\n",
       "      <td>BRJ</td>\n",
       "      <td>31</td>\n",
       "      <td>9</td>\n",
       "    </tr>\n",
       "  </tbody>\n",
       "</table>\n",
       "</div>"
      ],
      "text/plain": [
       "       day city  temp  humidity\n",
       "one    SUN  KTM    23         3\n",
       "two    MON  KTM    22         9\n",
       "three  SUN  PKR    25         8\n",
       "four   MON  PKR    26         3\n",
       "five   SUN  BRJ    30         9\n",
       "six    MON  BRJ    31         9"
      ]
     },
     "execution_count": 40,
     "metadata": {},
     "output_type": "execute_result"
    }
   ],
   "source": [
    "df2 #the dataframe is unchanged, drop returns a copy\n"
   ]
  },
  {
   "cell_type": "code",
   "execution_count": 44,
   "metadata": {},
   "outputs": [
    {
     "ename": "KeyError",
     "evalue": "\"['one'] not found in axis\"",
     "output_type": "error",
     "traceback": [
      "\u001b[31m---------------------------------------------------------------------------\u001b[39m",
      "\u001b[31mKeyError\u001b[39m                                  Traceback (most recent call last)",
      "\u001b[36mCell\u001b[39m\u001b[36m \u001b[39m\u001b[32mIn[44]\u001b[39m\u001b[32m, line 1\u001b[39m\n\u001b[32m----> \u001b[39m\u001b[32m1\u001b[39m \u001b[43mdf2\u001b[49m\u001b[43m.\u001b[49m\u001b[43mdrop\u001b[49m\u001b[43m(\u001b[49m\u001b[33;43m'\u001b[39;49m\u001b[33;43mone\u001b[39;49m\u001b[33;43m'\u001b[39;49m\u001b[43m,\u001b[49m\u001b[43minplace\u001b[49m\u001b[43m=\u001b[49m\u001b[38;5;28;43;01mTrue\u001b[39;49;00m\u001b[43m)\u001b[49m \u001b[38;5;66;03m#will change the origional dataframe\u001b[39;00m\n",
      "\u001b[36mFile \u001b[39m\u001b[32m/Library/Frameworks/Python.framework/Versions/3.12/lib/python3.12/site-packages/pandas/core/frame.py:5568\u001b[39m, in \u001b[36mDataFrame.drop\u001b[39m\u001b[34m(self, labels, axis, index, columns, level, inplace, errors)\u001b[39m\n\u001b[32m   5420\u001b[39m \u001b[38;5;28;01mdef\u001b[39;00m\u001b[38;5;250m \u001b[39m\u001b[34mdrop\u001b[39m(\n\u001b[32m   5421\u001b[39m     \u001b[38;5;28mself\u001b[39m,\n\u001b[32m   5422\u001b[39m     labels: IndexLabel | \u001b[38;5;28;01mNone\u001b[39;00m = \u001b[38;5;28;01mNone\u001b[39;00m,\n\u001b[32m   (...)\u001b[39m\u001b[32m   5429\u001b[39m     errors: IgnoreRaise = \u001b[33m\"\u001b[39m\u001b[33mraise\u001b[39m\u001b[33m\"\u001b[39m,\n\u001b[32m   5430\u001b[39m ) -> DataFrame | \u001b[38;5;28;01mNone\u001b[39;00m:\n\u001b[32m   5431\u001b[39m \u001b[38;5;250m    \u001b[39m\u001b[33;03m\"\"\"\u001b[39;00m\n\u001b[32m   5432\u001b[39m \u001b[33;03m    Drop specified labels from rows or columns.\u001b[39;00m\n\u001b[32m   5433\u001b[39m \n\u001b[32m   (...)\u001b[39m\u001b[32m   5566\u001b[39m \u001b[33;03m            weight  1.0     0.8\u001b[39;00m\n\u001b[32m   5567\u001b[39m \u001b[33;03m    \"\"\"\u001b[39;00m\n\u001b[32m-> \u001b[39m\u001b[32m5568\u001b[39m     \u001b[38;5;28;01mreturn\u001b[39;00m \u001b[38;5;28;43msuper\u001b[39;49m\u001b[43m(\u001b[49m\u001b[43m)\u001b[49m\u001b[43m.\u001b[49m\u001b[43mdrop\u001b[49m\u001b[43m(\u001b[49m\n\u001b[32m   5569\u001b[39m \u001b[43m        \u001b[49m\u001b[43mlabels\u001b[49m\u001b[43m=\u001b[49m\u001b[43mlabels\u001b[49m\u001b[43m,\u001b[49m\n\u001b[32m   5570\u001b[39m \u001b[43m        \u001b[49m\u001b[43maxis\u001b[49m\u001b[43m=\u001b[49m\u001b[43maxis\u001b[49m\u001b[43m,\u001b[49m\n\u001b[32m   5571\u001b[39m \u001b[43m        \u001b[49m\u001b[43mindex\u001b[49m\u001b[43m=\u001b[49m\u001b[43mindex\u001b[49m\u001b[43m,\u001b[49m\n\u001b[32m   5572\u001b[39m \u001b[43m        \u001b[49m\u001b[43mcolumns\u001b[49m\u001b[43m=\u001b[49m\u001b[43mcolumns\u001b[49m\u001b[43m,\u001b[49m\n\u001b[32m   5573\u001b[39m \u001b[43m        \u001b[49m\u001b[43mlevel\u001b[49m\u001b[43m=\u001b[49m\u001b[43mlevel\u001b[49m\u001b[43m,\u001b[49m\n\u001b[32m   5574\u001b[39m \u001b[43m        \u001b[49m\u001b[43minplace\u001b[49m\u001b[43m=\u001b[49m\u001b[43minplace\u001b[49m\u001b[43m,\u001b[49m\n\u001b[32m   5575\u001b[39m \u001b[43m        \u001b[49m\u001b[43merrors\u001b[49m\u001b[43m=\u001b[49m\u001b[43merrors\u001b[49m\u001b[43m,\u001b[49m\n\u001b[32m   5576\u001b[39m \u001b[43m    \u001b[49m\u001b[43m)\u001b[49m\n",
      "\u001b[36mFile \u001b[39m\u001b[32m/Library/Frameworks/Python.framework/Versions/3.12/lib/python3.12/site-packages/pandas/core/generic.py:4785\u001b[39m, in \u001b[36mNDFrame.drop\u001b[39m\u001b[34m(self, labels, axis, index, columns, level, inplace, errors)\u001b[39m\n\u001b[32m   4783\u001b[39m \u001b[38;5;28;01mfor\u001b[39;00m axis, labels \u001b[38;5;129;01min\u001b[39;00m axes.items():\n\u001b[32m   4784\u001b[39m     \u001b[38;5;28;01mif\u001b[39;00m labels \u001b[38;5;129;01mis\u001b[39;00m \u001b[38;5;129;01mnot\u001b[39;00m \u001b[38;5;28;01mNone\u001b[39;00m:\n\u001b[32m-> \u001b[39m\u001b[32m4785\u001b[39m         obj = \u001b[43mobj\u001b[49m\u001b[43m.\u001b[49m\u001b[43m_drop_axis\u001b[49m\u001b[43m(\u001b[49m\u001b[43mlabels\u001b[49m\u001b[43m,\u001b[49m\u001b[43m \u001b[49m\u001b[43maxis\u001b[49m\u001b[43m,\u001b[49m\u001b[43m \u001b[49m\u001b[43mlevel\u001b[49m\u001b[43m=\u001b[49m\u001b[43mlevel\u001b[49m\u001b[43m,\u001b[49m\u001b[43m \u001b[49m\u001b[43merrors\u001b[49m\u001b[43m=\u001b[49m\u001b[43merrors\u001b[49m\u001b[43m)\u001b[49m\n\u001b[32m   4787\u001b[39m \u001b[38;5;28;01mif\u001b[39;00m inplace:\n\u001b[32m   4788\u001b[39m     \u001b[38;5;28mself\u001b[39m._update_inplace(obj)\n",
      "\u001b[36mFile \u001b[39m\u001b[32m/Library/Frameworks/Python.framework/Versions/3.12/lib/python3.12/site-packages/pandas/core/generic.py:4827\u001b[39m, in \u001b[36mNDFrame._drop_axis\u001b[39m\u001b[34m(self, labels, axis, level, errors, only_slice)\u001b[39m\n\u001b[32m   4825\u001b[39m         new_axis = axis.drop(labels, level=level, errors=errors)\n\u001b[32m   4826\u001b[39m     \u001b[38;5;28;01melse\u001b[39;00m:\n\u001b[32m-> \u001b[39m\u001b[32m4827\u001b[39m         new_axis = \u001b[43maxis\u001b[49m\u001b[43m.\u001b[49m\u001b[43mdrop\u001b[49m\u001b[43m(\u001b[49m\u001b[43mlabels\u001b[49m\u001b[43m,\u001b[49m\u001b[43m \u001b[49m\u001b[43merrors\u001b[49m\u001b[43m=\u001b[49m\u001b[43merrors\u001b[49m\u001b[43m)\u001b[49m\n\u001b[32m   4828\u001b[39m     indexer = axis.get_indexer(new_axis)\n\u001b[32m   4830\u001b[39m \u001b[38;5;66;03m# Case for non-unique axis\u001b[39;00m\n\u001b[32m   4831\u001b[39m \u001b[38;5;28;01melse\u001b[39;00m:\n",
      "\u001b[36mFile \u001b[39m\u001b[32m/Library/Frameworks/Python.framework/Versions/3.12/lib/python3.12/site-packages/pandas/core/indexes/base.py:7070\u001b[39m, in \u001b[36mIndex.drop\u001b[39m\u001b[34m(self, labels, errors)\u001b[39m\n\u001b[32m   7068\u001b[39m \u001b[38;5;28;01mif\u001b[39;00m mask.any():\n\u001b[32m   7069\u001b[39m     \u001b[38;5;28;01mif\u001b[39;00m errors != \u001b[33m\"\u001b[39m\u001b[33mignore\u001b[39m\u001b[33m\"\u001b[39m:\n\u001b[32m-> \u001b[39m\u001b[32m7070\u001b[39m         \u001b[38;5;28;01mraise\u001b[39;00m \u001b[38;5;167;01mKeyError\u001b[39;00m(\u001b[33mf\u001b[39m\u001b[33m\"\u001b[39m\u001b[38;5;132;01m{\u001b[39;00mlabels[mask].tolist()\u001b[38;5;132;01m}\u001b[39;00m\u001b[33m not found in axis\u001b[39m\u001b[33m\"\u001b[39m)\n\u001b[32m   7071\u001b[39m     indexer = indexer[~mask]\n\u001b[32m   7072\u001b[39m \u001b[38;5;28;01mreturn\u001b[39;00m \u001b[38;5;28mself\u001b[39m.delete(indexer)\n",
      "\u001b[31mKeyError\u001b[39m: \"['one'] not found in axis\""
     ]
    }
   ],
   "source": [
    "df2.drop('one',inplace=True) #will change the origional dataframe\n"
   ]
  },
  {
   "cell_type": "code",
   "execution_count": 45,
   "metadata": {},
   "outputs": [
    {
     "data": {
      "text/html": [
       "<div>\n",
       "<style scoped>\n",
       "    .dataframe tbody tr th:only-of-type {\n",
       "        vertical-align: middle;\n",
       "    }\n",
       "\n",
       "    .dataframe tbody tr th {\n",
       "        vertical-align: top;\n",
       "    }\n",
       "\n",
       "    .dataframe thead th {\n",
       "        text-align: right;\n",
       "    }\n",
       "</style>\n",
       "<table border=\"1\" class=\"dataframe\">\n",
       "  <thead>\n",
       "    <tr style=\"text-align: right;\">\n",
       "      <th></th>\n",
       "      <th>day</th>\n",
       "      <th>city</th>\n",
       "      <th>temp</th>\n",
       "      <th>humidity</th>\n",
       "    </tr>\n",
       "  </thead>\n",
       "  <tbody>\n",
       "    <tr>\n",
       "      <th>two</th>\n",
       "      <td>MON</td>\n",
       "      <td>KTM</td>\n",
       "      <td>22</td>\n",
       "      <td>9</td>\n",
       "    </tr>\n",
       "    <tr>\n",
       "      <th>three</th>\n",
       "      <td>SUN</td>\n",
       "      <td>PKR</td>\n",
       "      <td>25</td>\n",
       "      <td>8</td>\n",
       "    </tr>\n",
       "    <tr>\n",
       "      <th>four</th>\n",
       "      <td>MON</td>\n",
       "      <td>PKR</td>\n",
       "      <td>26</td>\n",
       "      <td>3</td>\n",
       "    </tr>\n",
       "    <tr>\n",
       "      <th>five</th>\n",
       "      <td>SUN</td>\n",
       "      <td>BRJ</td>\n",
       "      <td>30</td>\n",
       "      <td>9</td>\n",
       "    </tr>\n",
       "    <tr>\n",
       "      <th>six</th>\n",
       "      <td>MON</td>\n",
       "      <td>BRJ</td>\n",
       "      <td>31</td>\n",
       "      <td>9</td>\n",
       "    </tr>\n",
       "  </tbody>\n",
       "</table>\n",
       "</div>"
      ],
      "text/plain": [
       "       day city  temp  humidity\n",
       "two    MON  KTM    22         9\n",
       "three  SUN  PKR    25         8\n",
       "four   MON  PKR    26         3\n",
       "five   SUN  BRJ    30         9\n",
       "six    MON  BRJ    31         9"
      ]
     },
     "execution_count": 45,
     "metadata": {},
     "output_type": "execute_result"
    }
   ],
   "source": [
    "df2"
   ]
  },
  {
   "cell_type": "code",
   "execution_count": 46,
   "metadata": {},
   "outputs": [
    {
     "data": {
      "text/html": [
       "<div>\n",
       "<style scoped>\n",
       "    .dataframe tbody tr th:only-of-type {\n",
       "        vertical-align: middle;\n",
       "    }\n",
       "\n",
       "    .dataframe tbody tr th {\n",
       "        vertical-align: top;\n",
       "    }\n",
       "\n",
       "    .dataframe thead th {\n",
       "        text-align: right;\n",
       "    }\n",
       "</style>\n",
       "<table border=\"1\" class=\"dataframe\">\n",
       "  <thead>\n",
       "    <tr style=\"text-align: right;\">\n",
       "      <th></th>\n",
       "      <th>city</th>\n",
       "      <th>humidity</th>\n",
       "    </tr>\n",
       "  </thead>\n",
       "  <tbody>\n",
       "    <tr>\n",
       "      <th>two</th>\n",
       "      <td>KTM</td>\n",
       "      <td>9</td>\n",
       "    </tr>\n",
       "    <tr>\n",
       "      <th>three</th>\n",
       "      <td>PKR</td>\n",
       "      <td>8</td>\n",
       "    </tr>\n",
       "    <tr>\n",
       "      <th>four</th>\n",
       "      <td>PKR</td>\n",
       "      <td>3</td>\n",
       "    </tr>\n",
       "    <tr>\n",
       "      <th>five</th>\n",
       "      <td>BRJ</td>\n",
       "      <td>9</td>\n",
       "    </tr>\n",
       "    <tr>\n",
       "      <th>six</th>\n",
       "      <td>BRJ</td>\n",
       "      <td>9</td>\n",
       "    </tr>\n",
       "  </tbody>\n",
       "</table>\n",
       "</div>"
      ],
      "text/plain": [
       "      city  humidity\n",
       "two    KTM         9\n",
       "three  PKR         8\n",
       "four   PKR         3\n",
       "five   BRJ         9\n",
       "six    BRJ         9"
      ]
     },
     "execution_count": 46,
     "metadata": {},
     "output_type": "execute_result"
    }
   ],
   "source": [
    "df2.drop(columns=['day','temp'])"
   ]
  },
  {
   "cell_type": "code",
   "execution_count": 47,
   "metadata": {},
   "outputs": [
    {
     "data": {
      "text/html": [
       "<div>\n",
       "<style scoped>\n",
       "    .dataframe tbody tr th:only-of-type {\n",
       "        vertical-align: middle;\n",
       "    }\n",
       "\n",
       "    .dataframe tbody tr th {\n",
       "        vertical-align: top;\n",
       "    }\n",
       "\n",
       "    .dataframe thead th {\n",
       "        text-align: right;\n",
       "    }\n",
       "</style>\n",
       "<table border=\"1\" class=\"dataframe\">\n",
       "  <thead>\n",
       "    <tr style=\"text-align: right;\">\n",
       "      <th></th>\n",
       "      <th>day</th>\n",
       "      <th>city</th>\n",
       "      <th>temp</th>\n",
       "      <th>humidity</th>\n",
       "    </tr>\n",
       "  </thead>\n",
       "  <tbody>\n",
       "    <tr>\n",
       "      <th>two</th>\n",
       "      <td>MON</td>\n",
       "      <td>KTM</td>\n",
       "      <td>22</td>\n",
       "      <td>9</td>\n",
       "    </tr>\n",
       "    <tr>\n",
       "      <th>three</th>\n",
       "      <td>SUN</td>\n",
       "      <td>PKR</td>\n",
       "      <td>25</td>\n",
       "      <td>8</td>\n",
       "    </tr>\n",
       "    <tr>\n",
       "      <th>four</th>\n",
       "      <td>MON</td>\n",
       "      <td>PKR</td>\n",
       "      <td>26</td>\n",
       "      <td>3</td>\n",
       "    </tr>\n",
       "    <tr>\n",
       "      <th>five</th>\n",
       "      <td>SUN</td>\n",
       "      <td>BRJ</td>\n",
       "      <td>30</td>\n",
       "      <td>9</td>\n",
       "    </tr>\n",
       "    <tr>\n",
       "      <th>six</th>\n",
       "      <td>MON</td>\n",
       "      <td>BRJ</td>\n",
       "      <td>31</td>\n",
       "      <td>9</td>\n",
       "    </tr>\n",
       "  </tbody>\n",
       "</table>\n",
       "</div>"
      ],
      "text/plain": [
       "       day city  temp  humidity\n",
       "two    MON  KTM    22         9\n",
       "three  SUN  PKR    25         8\n",
       "four   MON  PKR    26         3\n",
       "five   SUN  BRJ    30         9\n",
       "six    MON  BRJ    31         9"
      ]
     },
     "execution_count": 47,
     "metadata": {},
     "output_type": "execute_result"
    }
   ],
   "source": [
    "df2"
   ]
  },
  {
   "cell_type": "code",
   "execution_count": null,
   "metadata": {},
   "outputs": [],
   "source": []
  }
 ],
 "metadata": {
  "kernelspec": {
   "display_name": "Python 3",
   "language": "python",
   "name": "python3"
  },
  "language_info": {
   "codemirror_mode": {
    "name": "ipython",
    "version": 3
   },
   "file_extension": ".py",
   "mimetype": "text/x-python",
   "name": "python",
   "nbconvert_exporter": "python",
   "pygments_lexer": "ipython3",
   "version": "3.12.2"
  }
 },
 "nbformat": 4,
 "nbformat_minor": 2
}
